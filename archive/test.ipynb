{
 "cells": [
  {
   "cell_type": "code",
   "execution_count": 1,
   "metadata": {},
   "outputs": [],
   "source": [
    "\n",
    "import sounddevice"
   ]
  },
  {
   "cell_type": "code",
   "execution_count": 2,
   "metadata": {},
   "outputs": [
    {
     "data": {
      "text/plain": [
       "   0 Microsoft Sound Mapper - Input, MME (2 in, 0 out)\n",
       ">  1 Microphone Array (Intel® Smart , MME (2 in, 0 out)\n",
       "   2 Microsoft Sound Mapper - Output, MME (0 in, 2 out)\n",
       "<  3 Speakers (Realtek(R) Audio), MME (0 in, 2 out)\n",
       "   4 Primary Sound Capture Driver, Windows DirectSound (2 in, 0 out)\n",
       "   5 Microphone Array (Intel® Smart Sound Technology for Digital Microphones), Windows DirectSound (2 in, 0 out)\n",
       "   6 Primary Sound Driver, Windows DirectSound (0 in, 2 out)\n",
       "   7 Speakers (Realtek(R) Audio), Windows DirectSound (0 in, 2 out)\n",
       "   8 Speakers (Realtek(R) Audio), Windows WASAPI (0 in, 2 out)\n",
       "   9 Microphone Array (Intel® Smart Sound Technology for Digital Microphones), Windows WASAPI (2 in, 0 out)\n",
       "  10 Speakers (Nahimic mirroring Wave Speaker), Windows WDM-KS (0 in, 2 out)\n",
       "  11 Microphone (Realtek HD Audio Mic input), Windows WDM-KS (2 in, 0 out)\n",
       "  12 Stereo Mix (Realtek HD Audio Stereo input), Windows WDM-KS (2 in, 0 out)\n",
       "  13 Headphones (Realtek HD Audio 2nd output with SST), Windows WDM-KS (0 in, 2 out)\n",
       "  14 Speakers (Realtek HD Audio output with SST), Windows WDM-KS (0 in, 2 out)\n",
       "  15 Speakers (Nahimic Easy Surround), Windows WDM-KS (0 in, 8 out)\n",
       "  16 Microphone Array 1 (), Windows WDM-KS (2 in, 0 out)\n",
       "  17 Microphone Array 2 (), Windows WDM-KS (2 in, 0 out)\n",
       "  18 Microphone Array 3 (), Windows WDM-KS (4 in, 0 out)"
      ]
     },
     "execution_count": 2,
     "metadata": {},
     "output_type": "execute_result"
    }
   ],
   "source": [
    "sounddevice.query_devices()"
   ]
  }
 ],
 "metadata": {
  "kernelspec": {
   "display_name": "Python 3",
   "language": "python",
   "name": "python3"
  },
  "language_info": {
   "codemirror_mode": {
    "name": "ipython",
    "version": 3
   },
   "file_extension": ".py",
   "mimetype": "text/x-python",
   "name": "python",
   "nbconvert_exporter": "python",
   "pygments_lexer": "ipython3",
   "version": "3.10.8"
  },
  "orig_nbformat": 4
 },
 "nbformat": 4,
 "nbformat_minor": 2
}
